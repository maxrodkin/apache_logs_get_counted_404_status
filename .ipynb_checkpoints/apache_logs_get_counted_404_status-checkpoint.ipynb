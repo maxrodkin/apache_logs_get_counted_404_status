{
 "cells": [
  {
   "cell_type": "markdown",
   "metadata": {},
   "source": [
    "Lets`s read apache_logs  with known format. So, we can use regexp in separator"
   ]
  },
  {
   "cell_type": "code",
   "execution_count": 3,
   "metadata": {},
   "outputs": [],
   "source": [
    "import re\n",
    "import pandas as pd\n",
    "\n",
    "data = pd.read_csv(\n",
    "    'apache_logs',\n",
    "    sep=r'\\s(?=(?:[^\"]*\"[^\"]*\")*[^\"]*$)(?![^\\[]*\\])',\n",
    "    engine='python',\n",
    "    na_values='-',\n",
    "    header=None,\n",
    "    usecols=[0, 3, 4, 5, 6, 7, 8],\n",
    "    names=['ip', 'time', 'request', 'status', 'size', 'referer', 'user_agent'])"
   ]
  },
  {
   "cell_type": "markdown",
   "metadata": {},
   "source": [
    "Got DataFrame"
   ]
  },
  {
   "cell_type": "code",
   "execution_count": 4,
   "metadata": {},
   "outputs": [
    {
     "data": {
      "text/html": [
       "<div>\n",
       "<style scoped>\n",
       "    .dataframe tbody tr th:only-of-type {\n",
       "        vertical-align: middle;\n",
       "    }\n",
       "\n",
       "    .dataframe tbody tr th {\n",
       "        vertical-align: top;\n",
       "    }\n",
       "\n",
       "    .dataframe thead th {\n",
       "        text-align: right;\n",
       "    }\n",
       "</style>\n",
       "<table border=\"1\" class=\"dataframe\">\n",
       "  <thead>\n",
       "    <tr style=\"text-align: right;\">\n",
       "      <th></th>\n",
       "      <th>ip</th>\n",
       "      <th>time</th>\n",
       "      <th>request</th>\n",
       "      <th>status</th>\n",
       "      <th>size</th>\n",
       "      <th>referer</th>\n",
       "      <th>user_agent</th>\n",
       "    </tr>\n",
       "  </thead>\n",
       "  <tbody>\n",
       "    <tr>\n",
       "      <th>0</th>\n",
       "      <td>83.149.9.216</td>\n",
       "      <td>[17/May/2015:10:05:03 +0000]</td>\n",
       "      <td>\"GET /presentations/logstash-monitorama-2013/i...</td>\n",
       "      <td>200</td>\n",
       "      <td>203023.0</td>\n",
       "      <td>\"http://semicomplete.com/presentations/logstas...</td>\n",
       "      <td>\"Mozilla/5.0 (Macintosh; Intel Mac OS X 10_9_1...</td>\n",
       "    </tr>\n",
       "    <tr>\n",
       "      <th>1</th>\n",
       "      <td>83.149.9.216</td>\n",
       "      <td>[17/May/2015:10:05:43 +0000]</td>\n",
       "      <td>\"GET /presentations/logstash-monitorama-2013/i...</td>\n",
       "      <td>200</td>\n",
       "      <td>171717.0</td>\n",
       "      <td>\"http://semicomplete.com/presentations/logstas...</td>\n",
       "      <td>\"Mozilla/5.0 (Macintosh; Intel Mac OS X 10_9_1...</td>\n",
       "    </tr>\n",
       "    <tr>\n",
       "      <th>2</th>\n",
       "      <td>83.149.9.216</td>\n",
       "      <td>[17/May/2015:10:05:47 +0000]</td>\n",
       "      <td>\"GET /presentations/logstash-monitorama-2013/p...</td>\n",
       "      <td>200</td>\n",
       "      <td>26185.0</td>\n",
       "      <td>\"http://semicomplete.com/presentations/logstas...</td>\n",
       "      <td>\"Mozilla/5.0 (Macintosh; Intel Mac OS X 10_9_1...</td>\n",
       "    </tr>\n",
       "    <tr>\n",
       "      <th>3</th>\n",
       "      <td>83.149.9.216</td>\n",
       "      <td>[17/May/2015:10:05:12 +0000]</td>\n",
       "      <td>\"GET /presentations/logstash-monitorama-2013/p...</td>\n",
       "      <td>200</td>\n",
       "      <td>7697.0</td>\n",
       "      <td>\"http://semicomplete.com/presentations/logstas...</td>\n",
       "      <td>\"Mozilla/5.0 (Macintosh; Intel Mac OS X 10_9_1...</td>\n",
       "    </tr>\n",
       "    <tr>\n",
       "      <th>4</th>\n",
       "      <td>83.149.9.216</td>\n",
       "      <td>[17/May/2015:10:05:07 +0000]</td>\n",
       "      <td>\"GET /presentations/logstash-monitorama-2013/p...</td>\n",
       "      <td>200</td>\n",
       "      <td>2892.0</td>\n",
       "      <td>\"http://semicomplete.com/presentations/logstas...</td>\n",
       "      <td>\"Mozilla/5.0 (Macintosh; Intel Mac OS X 10_9_1...</td>\n",
       "    </tr>\n",
       "  </tbody>\n",
       "</table>\n",
       "</div>"
      ],
      "text/plain": [
       "             ip                          time  \\\n",
       "0  83.149.9.216  [17/May/2015:10:05:03 +0000]   \n",
       "1  83.149.9.216  [17/May/2015:10:05:43 +0000]   \n",
       "2  83.149.9.216  [17/May/2015:10:05:47 +0000]   \n",
       "3  83.149.9.216  [17/May/2015:10:05:12 +0000]   \n",
       "4  83.149.9.216  [17/May/2015:10:05:07 +0000]   \n",
       "\n",
       "                                             request status      size  \\\n",
       "0  \"GET /presentations/logstash-monitorama-2013/i...    200  203023.0   \n",
       "1  \"GET /presentations/logstash-monitorama-2013/i...    200  171717.0   \n",
       "2  \"GET /presentations/logstash-monitorama-2013/p...    200   26185.0   \n",
       "3  \"GET /presentations/logstash-monitorama-2013/p...    200    7697.0   \n",
       "4  \"GET /presentations/logstash-monitorama-2013/p...    200    2892.0   \n",
       "\n",
       "                                             referer  \\\n",
       "0  \"http://semicomplete.com/presentations/logstas...   \n",
       "1  \"http://semicomplete.com/presentations/logstas...   \n",
       "2  \"http://semicomplete.com/presentations/logstas...   \n",
       "3  \"http://semicomplete.com/presentations/logstas...   \n",
       "4  \"http://semicomplete.com/presentations/logstas...   \n",
       "\n",
       "                                          user_agent  \n",
       "0  \"Mozilla/5.0 (Macintosh; Intel Mac OS X 10_9_1...  \n",
       "1  \"Mozilla/5.0 (Macintosh; Intel Mac OS X 10_9_1...  \n",
       "2  \"Mozilla/5.0 (Macintosh; Intel Mac OS X 10_9_1...  \n",
       "3  \"Mozilla/5.0 (Macintosh; Intel Mac OS X 10_9_1...  \n",
       "4  \"Mozilla/5.0 (Macintosh; Intel Mac OS X 10_9_1...  "
      ]
     },
     "execution_count": 4,
     "metadata": {},
     "output_type": "execute_result"
    }
   ],
   "source": [
    "data.head()"
   ]
  },
  {
   "cell_type": "markdown",
   "metadata": {},
   "source": [
    "Filtering dataframe by column status with value = 404"
   ]
  },
  {
   "cell_type": "code",
   "execution_count": 13,
   "metadata": {},
   "outputs": [],
   "source": [
    "counted = data.loc[data['status'] == '404']['ip'].value_counts()"
   ]
  },
  {
   "cell_type": "markdown",
   "metadata": {},
   "source": [
    "And printing 10, 20 top lines of them"
   ]
  },
  {
   "cell_type": "code",
   "execution_count": 14,
   "metadata": {},
   "outputs": [
    {
     "data": {
      "text/plain": [
       "208.91.156.11     60\n",
       "144.76.95.39      14\n",
       "91.236.75.25       8\n",
       "66.249.73.135      8\n",
       "75.97.9.59         6\n",
       "176.92.75.62       5\n",
       "130.237.218.86     4\n",
       "84.137.208.44      4\n",
       "198.245.61.43      3\n",
       "78.173.140.106     3\n",
       "Name: ip, dtype: int64"
      ]
     },
     "execution_count": 14,
     "metadata": {},
     "output_type": "execute_result"
    }
   ],
   "source": [
    "counted.head(10)"
   ]
  },
  {
   "cell_type": "code",
   "execution_count": 15,
   "metadata": {},
   "outputs": [
    {
     "data": {
      "text/plain": [
       "208.91.156.11      60\n",
       "144.76.95.39       14\n",
       "91.236.75.25        8\n",
       "66.249.73.135       8\n",
       "75.97.9.59          6\n",
       "176.92.75.62        5\n",
       "130.237.218.86      4\n",
       "84.137.208.44       4\n",
       "198.245.61.43       3\n",
       "78.173.140.106      3\n",
       "188.165.243.45      3\n",
       "95.78.54.93         3\n",
       "195.250.34.144      3\n",
       "111.199.235.239     2\n",
       "144.76.194.187      2\n",
       "122.166.142.108     2\n",
       "193.244.33.47       2\n",
       "89.107.177.18       2\n",
       "204.62.56.3         2\n",
       "212.90.148.107      2\n",
       "Name: ip, dtype: int64"
      ]
     },
     "execution_count": 15,
     "metadata": {},
     "output_type": "execute_result"
    }
   ],
   "source": [
    "counted.head(20)"
   ]
  },
  {
   "cell_type": "code",
   "execution_count": null,
   "metadata": {},
   "outputs": [],
   "source": []
  }
 ],
 "metadata": {
  "kernelspec": {
   "display_name": "Python 3",
   "language": "python",
   "name": "python3"
  },
  "language_info": {
   "codemirror_mode": {
    "name": "ipython",
    "version": 3
   },
   "file_extension": ".py",
   "mimetype": "text/x-python",
   "name": "python",
   "nbconvert_exporter": "python",
   "pygments_lexer": "ipython3",
   "version": "3.8.6"
  }
 },
 "nbformat": 4,
 "nbformat_minor": 4
}
