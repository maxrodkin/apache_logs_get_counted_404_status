{
 "cells": [
  {
   "cell_type": "markdown",
   "metadata": {},
   "source": [
    "Lets`s read apache_logs  with known format. So, we can use regexp in separator"
   ]
  },
  {
   "cell_type": "code",
   "execution_count": 1,
   "metadata": {},
   "outputs": [],
   "source": [
    "import re\n",
    "import pandas as pd\n",
    "\n",
    "df = pd.read_csv(\n",
    "    'apache_logs',\n",
    "    sep=r'\\s(?=(?:[^\"]*\"[^\"]*\")*[^\"]*$)(?![^\\[]*\\])',\n",
    "    engine='python',\n",
    "    na_values='-',\n",
    "    header=None,\n",
    "    usecols=[0, 3, 4, 5, 6, 7, 8],\n",
    "    names=['ip', 'time', 'request', 'status', 'size', 'referer', 'user_agent'])"
   ]
  },
  {
   "cell_type": "markdown",
   "metadata": {},
   "source": [
    "Got DataFrame"
   ]
  },
  {
   "cell_type": "code",
   "execution_count": 17,
   "metadata": {},
   "outputs": [
    {
     "data": {
      "text/html": [
       "<table border=\"1\" class=\"dataframe\">\n",
       "  <thead>\n",
       "    <tr style=\"text-align: right;\">\n",
       "      <th></th>\n",
       "      <th>ip</th>\n",
       "      <th>time</th>\n",
       "      <th>request</th>\n",
       "      <th>status</th>\n",
       "      <th>size</th>\n",
       "      <th>referer</th>\n",
       "      <th>user_agent</th>\n",
       "    </tr>\n",
       "  </thead>\n",
       "  <tbody>\n",
       "    <tr>\n",
       "      <th>0</th>\n",
       "      <td>83.149.9.216</td>\n",
       "      <td>[17/May/2015:10:05:03 +0000]</td>\n",
       "      <td>\"GET /presentations/logstash-monitorama-2013/images/kibana-search.png HTTP/1.1\"</td>\n",
       "      <td>200</td>\n",
       "      <td>203023.0</td>\n",
       "      <td>\"http://semicomplete.com/presentations/logstash-monitorama-2013/\"</td>\n",
       "      <td>\"Mozilla/5.0 (Macintosh; Intel Mac OS X 10_9_1) AppleWebKit/537.36 (KHTML, like Gecko) Chrome/32.0.1700.77 Safari/537.36\"</td>\n",
       "    </tr>\n",
       "    <tr>\n",
       "      <th>1</th>\n",
       "      <td>83.149.9.216</td>\n",
       "      <td>[17/May/2015:10:05:43 +0000]</td>\n",
       "      <td>\"GET /presentations/logstash-monitorama-2013/images/kibana-dashboard3.png HTTP/1.1\"</td>\n",
       "      <td>200</td>\n",
       "      <td>171717.0</td>\n",
       "      <td>\"http://semicomplete.com/presentations/logstash-monitorama-2013/\"</td>\n",
       "      <td>\"Mozilla/5.0 (Macintosh; Intel Mac OS X 10_9_1) AppleWebKit/537.36 (KHTML, like Gecko) Chrome/32.0.1700.77 Safari/537.36\"</td>\n",
       "    </tr>\n",
       "    <tr>\n",
       "      <th>2</th>\n",
       "      <td>83.149.9.216</td>\n",
       "      <td>[17/May/2015:10:05:47 +0000]</td>\n",
       "      <td>\"GET /presentations/logstash-monitorama-2013/plugin/highlight/highlight.js HTTP/1.1\"</td>\n",
       "      <td>200</td>\n",
       "      <td>26185.0</td>\n",
       "      <td>\"http://semicomplete.com/presentations/logstash-monitorama-2013/\"</td>\n",
       "      <td>\"Mozilla/5.0 (Macintosh; Intel Mac OS X 10_9_1) AppleWebKit/537.36 (KHTML, like Gecko) Chrome/32.0.1700.77 Safari/537.36\"</td>\n",
       "    </tr>\n",
       "    <tr>\n",
       "      <th>3</th>\n",
       "      <td>83.149.9.216</td>\n",
       "      <td>[17/May/2015:10:05:12 +0000]</td>\n",
       "      <td>\"GET /presentations/logstash-monitorama-2013/plugin/zoom-js/zoom.js HTTP/1.1\"</td>\n",
       "      <td>200</td>\n",
       "      <td>7697.0</td>\n",
       "      <td>\"http://semicomplete.com/presentations/logstash-monitorama-2013/\"</td>\n",
       "      <td>\"Mozilla/5.0 (Macintosh; Intel Mac OS X 10_9_1) AppleWebKit/537.36 (KHTML, like Gecko) Chrome/32.0.1700.77 Safari/537.36\"</td>\n",
       "    </tr>\n",
       "    <tr>\n",
       "      <th>4</th>\n",
       "      <td>83.149.9.216</td>\n",
       "      <td>[17/May/2015:10:05:07 +0000]</td>\n",
       "      <td>\"GET /presentations/logstash-monitorama-2013/plugin/notes/notes.js HTTP/1.1\"</td>\n",
       "      <td>200</td>\n",
       "      <td>2892.0</td>\n",
       "      <td>\"http://semicomplete.com/presentations/logstash-monitorama-2013/\"</td>\n",
       "      <td>\"Mozilla/5.0 (Macintosh; Intel Mac OS X 10_9_1) AppleWebKit/537.36 (KHTML, like Gecko) Chrome/32.0.1700.77 Safari/537.36\"</td>\n",
       "    </tr>\n",
       "  </tbody>\n",
       "</table>"
      ],
      "text/plain": [
       "<IPython.core.display.HTML object>"
      ]
     },
     "metadata": {},
     "output_type": "display_data"
    }
   ],
   "source": [
    "from IPython.display import display, HTML\n",
    "\n",
    "display(HTML(df.loc[df['status'] == '200'].head().to_html()))"
   ]
  },
  {
   "cell_type": "markdown",
   "metadata": {},
   "source": [
    "Filtering dataframe by column status with value = 404"
   ]
  },
  {
   "cell_type": "code",
   "execution_count": 3,
   "metadata": {},
   "outputs": [],
   "source": [
    "counted = df.loc[df['status'] == '404']['ip'].value_counts()"
   ]
  },
  {
   "cell_type": "markdown",
   "metadata": {},
   "source": [
    "And printing 10, 20 top lines of them"
   ]
  },
  {
   "cell_type": "code",
   "execution_count": 4,
   "metadata": {},
   "outputs": [
    {
     "data": {
      "text/plain": [
       "208.91.156.11     60\n",
       "144.76.95.39      14\n",
       "66.249.73.135      8\n",
       "91.236.75.25       8\n",
       "75.97.9.59         6\n",
       "176.92.75.62       5\n",
       "84.137.208.44      4\n",
       "130.237.218.86     4\n",
       "188.165.243.45     3\n",
       "198.245.61.43      3\n",
       "Name: ip, dtype: int64"
      ]
     },
     "execution_count": 4,
     "metadata": {},
     "output_type": "execute_result"
    }
   ],
   "source": [
    "counted.head(10)"
   ]
  },
  {
   "cell_type": "code",
   "execution_count": 5,
   "metadata": {},
   "outputs": [
    {
     "data": {
      "text/plain": [
       "208.91.156.11      60\n",
       "144.76.95.39       14\n",
       "66.249.73.135       8\n",
       "91.236.75.25        8\n",
       "75.97.9.59          6\n",
       "176.92.75.62        5\n",
       "84.137.208.44       4\n",
       "130.237.218.86      4\n",
       "188.165.243.45      3\n",
       "198.245.61.43       3\n",
       "78.173.140.106      3\n",
       "195.250.34.144      3\n",
       "95.78.54.93         3\n",
       "86.28.207.22        2\n",
       "204.62.56.3         2\n",
       "66.249.73.185       2\n",
       "199.168.96.66       2\n",
       "111.199.235.239     2\n",
       "193.244.33.47       2\n",
       "212.90.148.107      2\n",
       "Name: ip, dtype: int64"
      ]
     },
     "execution_count": 5,
     "metadata": {},
     "output_type": "execute_result"
    }
   ],
   "source": [
    "counted.head(20)"
   ]
  },
  {
   "cell_type": "markdown",
   "metadata": {},
   "source": [
    "Let`s make some investigations. Firstly, usual data statistic. Nothing interesting yet..."
   ]
  },
  {
   "cell_type": "code",
   "execution_count": 6,
   "metadata": {},
   "outputs": [
    {
     "name": "stdout",
     "output_type": "stream",
     "text": [
      "<class 'pandas.core.frame.DataFrame'>\n",
      "RangeIndex: 10000 entries, 0 to 9999\n",
      "Data columns (total 7 columns):\n",
      " #   Column      Non-Null Count  Dtype  \n",
      "---  ------      --------------  -----  \n",
      " 0   ip          10000 non-null  object \n",
      " 1   time        10000 non-null  object \n",
      " 2   request     10000 non-null  object \n",
      " 3   status      10000 non-null  object \n",
      " 4   size        9330 non-null   float64\n",
      " 5   referer     9999 non-null   object \n",
      " 6   user_agent  9999 non-null   object \n",
      "dtypes: float64(1), object(6)\n",
      "memory usage: 547.0+ KB\n"
     ]
    }
   ],
   "source": [
    "df.info()"
   ]
  },
  {
   "cell_type": "code",
   "execution_count": 8,
   "metadata": {},
   "outputs": [
    {
     "data": {
      "text/html": [
       "<div>\n",
       "<style scoped>\n",
       "    .dataframe tbody tr th:only-of-type {\n",
       "        vertical-align: middle;\n",
       "    }\n",
       "\n",
       "    .dataframe tbody tr th {\n",
       "        vertical-align: top;\n",
       "    }\n",
       "\n",
       "    .dataframe thead th {\n",
       "        text-align: right;\n",
       "    }\n",
       "</style>\n",
       "<table border=\"1\" class=\"dataframe\">\n",
       "  <thead>\n",
       "    <tr style=\"text-align: right;\">\n",
       "      <th></th>\n",
       "      <th>ip</th>\n",
       "      <th>time</th>\n",
       "      <th>request</th>\n",
       "      <th>status</th>\n",
       "      <th>referer</th>\n",
       "      <th>user_agent</th>\n",
       "    </tr>\n",
       "  </thead>\n",
       "  <tbody>\n",
       "    <tr>\n",
       "      <th>count</th>\n",
       "      <td>10000</td>\n",
       "      <td>10000</td>\n",
       "      <td>10000</td>\n",
       "      <td>10000</td>\n",
       "      <td>9999</td>\n",
       "      <td>9999</td>\n",
       "    </tr>\n",
       "    <tr>\n",
       "      <th>unique</th>\n",
       "      <td>1754</td>\n",
       "      <td>4363</td>\n",
       "      <td>1734</td>\n",
       "      <td>9</td>\n",
       "      <td>628</td>\n",
       "      <td>558</td>\n",
       "    </tr>\n",
       "    <tr>\n",
       "      <th>top</th>\n",
       "      <td>66.249.73.135</td>\n",
       "      <td>[17/May/2015:23:05:30 +0000]</td>\n",
       "      <td>\"GET /favicon.ico HTTP/1.1\"</td>\n",
       "      <td>200</td>\n",
       "      <td>\"-\"</td>\n",
       "      <td>\"Mozilla/5.0 (Windows NT 6.1; WOW64) AppleWebK...</td>\n",
       "    </tr>\n",
       "    <tr>\n",
       "      <th>freq</th>\n",
       "      <td>482</td>\n",
       "      <td>9</td>\n",
       "      <td>747</td>\n",
       "      <td>9125</td>\n",
       "      <td>4072</td>\n",
       "      <td>1044</td>\n",
       "    </tr>\n",
       "  </tbody>\n",
       "</table>\n",
       "</div>"
      ],
      "text/plain": [
       "                   ip                          time  \\\n",
       "count           10000                         10000   \n",
       "unique           1754                          4363   \n",
       "top     66.249.73.135  [17/May/2015:23:05:30 +0000]   \n",
       "freq              482                             9   \n",
       "\n",
       "                            request status referer  \\\n",
       "count                         10000  10000    9999   \n",
       "unique                         1734      9     628   \n",
       "top     \"GET /favicon.ico HTTP/1.1\"    200     \"-\"   \n",
       "freq                            747   9125    4072   \n",
       "\n",
       "                                               user_agent  \n",
       "count                                                9999  \n",
       "unique                                                558  \n",
       "top     \"Mozilla/5.0 (Windows NT 6.1; WOW64) AppleWebK...  \n",
       "freq                                                 1044  "
      ]
     },
     "execution_count": 8,
     "metadata": {},
     "output_type": "execute_result"
    }
   ],
   "source": [
    "df.describe(include=['object', 'bool'])"
   ]
  },
  {
   "cell_type": "markdown",
   "metadata": {},
   "source": [
    "Lets check distribution of answer sise param of lines with status 404"
   ]
  },
  {
   "cell_type": "code",
   "execution_count": 40,
   "metadata": {},
   "outputs": [],
   "source": [
    "status404_size = df.loc[df['status'] == '404']['size']"
   ]
  },
  {
   "cell_type": "code",
   "execution_count": 45,
   "metadata": {},
   "outputs": [
    {
     "data": {
      "text/plain": [
       "count     205.000000\n",
       "mean     1279.117073\n",
       "std      2514.786836\n",
       "min       289.000000\n",
       "25%       303.000000\n",
       "50%       324.000000\n",
       "75%       364.000000\n",
       "max      7865.000000\n",
       "Name: size, dtype: float64"
      ]
     },
     "execution_count": 45,
     "metadata": {},
     "output_type": "execute_result"
    }
   ],
   "source": [
    "status404_size.describe()"
   ]
  },
  {
   "cell_type": "markdown",
   "metadata": {},
   "source": [
    "And something interesting is here:"
   ]
  },
  {
   "cell_type": "code",
   "execution_count": 51,
   "metadata": {},
   "outputs": [
    {
     "data": {
      "text/plain": [
       "<AxesSubplot:>"
      ]
     },
     "execution_count": 51,
     "metadata": {},
     "output_type": "execute_result"
    },
    {
     "data": {
      "image/png": "[encoded data removed]",
      "text/plain": [
       "<Figure size 432x288 with 1 Axes>"
      ]
     },
     "metadata": {
      "needs_background": "light"
     },
     "output_type": "display_data"
    }
   ],
   "source": [
    "status404_size.plot(legend = True)"
   ]
  },
  {
   "cell_type": "markdown",
   "metadata": {},
   "source": [
    "Size has not random distribution. It has several spikes. May be it`s important for understanding of 404 status reasons.\n",
    "It needs more deep invastigation, including transformation of columns and finding they corellatoin to status column."
   ]
  }
 ],
 "metadata": {
  "kernelspec": {
   "display_name": "Python 3",
   "language": "python",
   "name": "python3"
  },
  "language_info": {
   "codemirror_mode": {
    "name": "ipython",
    "version": 3
   },
   "file_extension": ".py",
   "mimetype": "text/x-python",
   "name": "python",
   "nbconvert_exporter": "python",
   "pygments_lexer": "ipython3",
   "version": "3.8.6"
  }
 },
 "nbformat": 4,
 "nbformat_minor": 4
}
